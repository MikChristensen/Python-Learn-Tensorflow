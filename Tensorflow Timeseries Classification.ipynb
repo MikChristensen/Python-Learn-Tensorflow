{
 "cells": [
  {
   "cell_type": "markdown",
   "metadata": {},
   "source": [
    "# Tensorflow Timeseries Classification"
   ]
  },
  {
   "cell_type": "markdown",
   "metadata": {},
   "source": [
    "## Import packages"
   ]
  },
  {
   "cell_type": "code",
   "execution_count": 1,
   "metadata": {},
   "outputs": [],
   "source": [
    "import tensorflow as tf\n",
    "import datetime\n",
    "import yfinance as yf\n",
    "import pandas as pd\n",
    "import numpy as np\n",
    "from GetData import getData"
   ]
  },
  {
   "cell_type": "markdown",
   "metadata": {},
   "source": [
    "## Load dataset"
   ]
  },
  {
   "cell_type": "code",
   "execution_count": 2,
   "metadata": {},
   "outputs": [
    {
     "name": "stdout",
     "output_type": "stream",
     "text": [
      "[*********************100%***********************]  1 of 1 completed\n"
     ]
    },
    {
     "data": {
      "text/html": [
       "<div>\n",
       "<style scoped>\n",
       "    .dataframe tbody tr th:only-of-type {\n",
       "        vertical-align: middle;\n",
       "    }\n",
       "\n",
       "    .dataframe tbody tr th {\n",
       "        vertical-align: top;\n",
       "    }\n",
       "\n",
       "    .dataframe thead th {\n",
       "        text-align: right;\n",
       "    }\n",
       "</style>\n",
       "<table border=\"1\" class=\"dataframe\">\n",
       "  <thead>\n",
       "    <tr style=\"text-align: right;\">\n",
       "      <th></th>\n",
       "      <th>Open</th>\n",
       "      <th>High</th>\n",
       "      <th>Low</th>\n",
       "      <th>Close</th>\n",
       "      <th>Adj Close</th>\n",
       "      <th>Volume</th>\n",
       "    </tr>\n",
       "    <tr>\n",
       "      <th>Date</th>\n",
       "      <th></th>\n",
       "      <th></th>\n",
       "      <th></th>\n",
       "      <th></th>\n",
       "      <th></th>\n",
       "      <th></th>\n",
       "    </tr>\n",
       "  </thead>\n",
       "  <tbody>\n",
       "    <tr>\n",
       "      <th>2009-12-31</th>\n",
       "      <td>312.687683</td>\n",
       "      <td>313.013000</td>\n",
       "      <td>310.300293</td>\n",
       "      <td>310.300293</td>\n",
       "      <td>310.300293</td>\n",
       "      <td>2437160</td>\n",
       "    </tr>\n",
       "    <tr>\n",
       "      <th>2010-01-04</th>\n",
       "      <td>313.788788</td>\n",
       "      <td>315.070068</td>\n",
       "      <td>312.432434</td>\n",
       "      <td>313.688690</td>\n",
       "      <td>313.688690</td>\n",
       "      <td>3908488</td>\n",
       "    </tr>\n",
       "  </tbody>\n",
       "</table>\n",
       "</div>"
      ],
      "text/plain": [
       "                  Open        High         Low       Close   Adj Close  \\\n",
       "Date                                                                     \n",
       "2009-12-31  312.687683  313.013000  310.300293  310.300293  310.300293   \n",
       "2010-01-04  313.788788  315.070068  312.432434  313.688690  313.688690   \n",
       "\n",
       "             Volume  \n",
       "Date                 \n",
       "2009-12-31  2437160  \n",
       "2010-01-04  3908488  "
      ]
     },
     "execution_count": 2,
     "metadata": {},
     "output_type": "execute_result"
    }
   ],
   "source": [
    "ticker =  'GOOGL' \n",
    "start = datetime.datetime(2010, 1, 1)\n",
    "end = datetime.datetime(2020, 7, 31)\n",
    "# download ticker ‘Adj Close’ price from yahoo finance\n",
    "stock =  yf.download(ticker, progress=True, actions=True,start=start, end=end)\n",
    "stock = pd.DataFrame(stock)\n",
    "stock.drop('Dividends', axis=1, inplace=True)\n",
    "stock.drop('Stock Splits', axis=1, inplace=True)\n",
    "stock.head(2)"
   ]
  },
  {
   "cell_type": "code",
   "execution_count": 3,
   "metadata": {},
   "outputs": [
    {
     "name": "stdout",
     "output_type": "stream",
     "text": [
      "2663\n"
     ]
    }
   ],
   "source": [
    "print(len(stock))"
   ]
  },
  {
   "cell_type": "markdown",
   "metadata": {},
   "source": [
    "## Split dataset"
   ]
  },
  {
   "cell_type": "code",
   "execution_count": 4,
   "metadata": {},
   "outputs": [],
   "source": [
    "x_train=stock.sample(frac=0.8,random_state=200)\n",
    "x_test=stock.drop(x_train.index)\n",
    "\n",
    "y_train = np.where(x_train.Close.shift(-1) > x_train.Close, 1, 0)\n",
    "y_train = pd.DataFrame(y_train, columns={'y'})  \n",
    "\n",
    "y_test = np.where(x_test.Close.shift(-1) > x_test.Close, 1, 0)\n",
    "y_test = pd.DataFrame(y_test, columns={'y'})   "
   ]
  },
  {
   "cell_type": "code",
   "execution_count": 5,
   "metadata": {},
   "outputs": [],
   "source": [
    "columns = x_train.columns"
   ]
  },
  {
   "cell_type": "code",
   "execution_count": 6,
   "metadata": {},
   "outputs": [],
   "source": [
    "x_test = x_test.to_numpy()\n",
    "y_test = y_test.to_numpy()\n",
    "x_train = x_train.to_numpy()\n",
    "y_train = y_train.to_numpy()"
   ]
  },
  {
   "cell_type": "code",
   "execution_count": 7,
   "metadata": {},
   "outputs": [],
   "source": [
    "tf.convert_to_tensor(x_train)\n",
    "normalizer = tf.keras.layers.experimental.preprocessing.Normalization(axis=-1)\n",
    "normalizer.adapt(x_train)"
   ]
  },
  {
   "cell_type": "markdown",
   "metadata": {},
   "source": [
    "## Build a machine learning model\n",
    "Build a tf.keras.Sequential model by stacking layers."
   ]
  },
  {
   "cell_type": "code",
   "execution_count": 8,
   "metadata": {},
   "outputs": [],
   "source": [
    "model = tf.keras.Sequential([\n",
    "  normalizer,\n",
    "  tf.keras.layers.Dense(128, activation='relu'),\n",
    "  tf.keras.layers.Dropout(0.2),\n",
    "  tf.keras.layers.Dense(10)\n",
    "])"
   ]
  },
  {
   "cell_type": "code",
   "execution_count": 9,
   "metadata": {},
   "outputs": [
    {
     "data": {
      "text/plain": [
       "array([[ 0.02189778, -0.06582812, -0.38277224, ...,  0.41690287,\n",
       "         0.04295434,  0.12604427],\n",
       "       [-0.05057315,  0.14462227,  0.05397422, ...,  0.06770889,\n",
       "        -0.03266859, -0.03005688],\n",
       "       [-0.00713235,  0.00430916, -0.0617858 , ...,  0.02145597,\n",
       "         0.03682272, -0.00420803],\n",
       "       ...,\n",
       "       [-0.10141663,  0.26186016,  0.12096799, ...,  0.13219063,\n",
       "        -0.07850999, -0.05213208],\n",
       "       [-0.13132839,  0.17629778,  0.18606558, ...,  0.17747247,\n",
       "        -0.15415132, -0.02963877],\n",
       "       [ 0.03183487, -0.04669146, -0.41951495, ...,  0.43705243,\n",
       "         0.02248639,  0.16159187]], dtype=float32)"
      ]
     },
     "execution_count": 9,
     "metadata": {},
     "output_type": "execute_result"
    }
   ],
   "source": [
    "predictions = model(x_train).numpy()\n",
    "predictions"
   ]
  },
  {
   "cell_type": "code",
   "execution_count": 10,
   "metadata": {},
   "outputs": [
    {
     "data": {
      "text/plain": [
       "array([[0.09302427, 0.08521134, 0.06206551, ..., 0.13808446, 0.09500381,\n",
       "        0.10323489],\n",
       "       [0.09475774, 0.11518263, 0.1052008 , ..., 0.10665567, 0.09646962,\n",
       "        0.0967219 ],\n",
       "       [0.09959672, 0.10074279, 0.09429949, ..., 0.10248511, 0.10407214,\n",
       "        0.0998884 ],\n",
       "       ...,\n",
       "       [0.08937557, 0.1285251 , 0.11163471, ..., 0.1128946 , 0.09144649,\n",
       "        0.09389075],\n",
       "       [0.08786636, 0.11951514, 0.12068827, ..., 0.11965562, 0.08588369,\n",
       "        0.09727155],\n",
       "       [0.09350724, 0.08644536, 0.05954242, ..., 0.14022614, 0.09263717,\n",
       "        0.10646283]], dtype=float32)"
      ]
     },
     "execution_count": 10,
     "metadata": {},
     "output_type": "execute_result"
    }
   ],
   "source": [
    "tf.nn.softmax(predictions).numpy()"
   ]
  },
  {
   "cell_type": "code",
   "execution_count": 11,
   "metadata": {},
   "outputs": [],
   "source": [
    "loss_fn = tf.keras.losses.SparseCategoricalCrossentropy(from_logits=True)"
   ]
  },
  {
   "cell_type": "code",
   "execution_count": 12,
   "metadata": {},
   "outputs": [],
   "source": [
    "model.compile(optimizer='adam',\n",
    "              loss=loss_fn,\n",
    "              metrics=['accuracy'])"
   ]
  },
  {
   "cell_type": "code",
   "execution_count": 13,
   "metadata": {},
   "outputs": [
    {
     "name": "stdout",
     "output_type": "stream",
     "text": [
      "Epoch 1/5\n",
      "67/67 [==============================] - 0s 2ms/step - loss: 1.3981 - accuracy: 0.6502\n",
      "Epoch 2/5\n",
      "67/67 [==============================] - 0s 2ms/step - loss: 0.6985 - accuracy: 0.7507\n",
      "Epoch 3/5\n",
      "67/67 [==============================] - 0s 2ms/step - loss: 0.5911 - accuracy: 0.7460\n",
      "Epoch 4/5\n",
      "67/67 [==============================] - 0s 2ms/step - loss: 0.5564 - accuracy: 0.7507\n",
      "Epoch 5/5\n",
      "67/67 [==============================] - 0s 2ms/step - loss: 0.5437 - accuracy: 0.7526\n"
     ]
    },
    {
     "data": {
      "text/plain": [
       "<tensorflow.python.keras.callbacks.History at 0x192d3cfd760>"
      ]
     },
     "execution_count": 13,
     "metadata": {},
     "output_type": "execute_result"
    }
   ],
   "source": [
    "model.fit(x_train, y_train, epochs=200)"
   ]
  },
  {
   "cell_type": "code",
   "execution_count": 14,
   "metadata": {},
   "outputs": [
    {
     "name": "stdout",
     "output_type": "stream",
     "text": [
      "17/17 - 0s - loss: 0.9358 - accuracy: 0.4859\n"
     ]
    },
    {
     "data": {
      "text/plain": [
       "[0.9358494281768799, 0.4859287142753601]"
      ]
     },
     "execution_count": 14,
     "metadata": {},
     "output_type": "execute_result"
    }
   ],
   "source": [
    "model.evaluate(x_test,  y_test, verbose=2)"
   ]
  },
  {
   "cell_type": "code",
   "execution_count": 15,
   "metadata": {},
   "outputs": [],
   "source": [
    "probability_model = tf.keras.Sequential([\n",
    "  model,\n",
    "  tf.keras.layers.Softmax()\n",
    "])"
   ]
  },
  {
   "cell_type": "code",
   "execution_count": 16,
   "metadata": {},
   "outputs": [
    {
     "data": {
      "text/plain": [
       "<tf.Tensor: shape=(533, 10), dtype=float32, numpy=\n",
       "array([[1.40261501e-01, 8.59341860e-01, 5.98074666e-06, ...,\n",
       "        7.05982602e-05, 2.08261790e-05, 6.95944036e-05],\n",
       "       [1.49872288e-01, 8.49779010e-01, 5.87129671e-06, ...,\n",
       "        5.88185831e-05, 2.02542833e-05, 5.83111178e-05],\n",
       "       [1.70316324e-01, 8.29184771e-01, 9.90469107e-06, ...,\n",
       "        8.22213406e-05, 3.11521871e-05, 7.95907181e-05],\n",
       "       ...,\n",
       "       [9.40063834e-01, 5.98816797e-02, 1.17398140e-05, ...,\n",
       "        1.39759977e-05, 4.94353026e-06, 6.24200629e-06],\n",
       "       [9.42358971e-01, 5.76350838e-02, 1.40424038e-06, ...,\n",
       "        1.27347903e-06, 6.43942656e-07, 5.85611247e-07],\n",
       "       [9.61720705e-01, 3.82789448e-02, 1.31351413e-07, ...,\n",
       "        1.10491115e-07, 5.25045252e-08, 4.56724436e-08]], dtype=float32)>"
      ]
     },
     "execution_count": 16,
     "metadata": {},
     "output_type": "execute_result"
    }
   ],
   "source": [
    "probability_model(x_test)"
   ]
  },
  {
   "cell_type": "code",
   "execution_count": 17,
   "metadata": {},
   "outputs": [
    {
     "data": {
      "image/png": "[encoded data removed]",
      "text/plain": [
       "<IPython.core.display.Image object>"
      ]
     },
     "execution_count": 17,
     "metadata": {},
     "output_type": "execute_result"
    }
   ],
   "source": [
    "tf.keras.utils.plot_model(model, rankdir=\"LR\", show_shapes=True)"
   ]
  },
  {
   "cell_type": "code",
   "execution_count": null,
   "metadata": {},
   "outputs": [],
   "source": []
  }
 ],
 "metadata": {
  "interpreter": {
   "hash": "21672cb51f0f261611be7d67cd0781b50650cc5f87b56af0cd9d677415e1d15e"
  },
  "kernelspec": {
   "display_name": "Python 3.8.13",
   "language": "python",
   "name": "python3"
  },
  "language_info": {
   "codemirror_mode": {
    "name": "ipython",
    "version": 3
   },
   "file_extension": ".py",
   "mimetype": "text/x-python",
   "name": "python",
   "nbconvert_exporter": "python",
   "pygments_lexer": "ipython3",
   "version": "3.8.13"
  },
  "orig_nbformat": 4
 },
 "nbformat": 4,
 "nbformat_minor": 2
}
